{
 "cells": [
  {
   "cell_type": "markdown",
   "metadata": {
    "heading_collapsed": true
   },
   "source": [
    "# Before your start:\n",
    "- Read the README.md file\n",
    "- Comment as much as you can and use the resources in the README.md file\n",
    "- Happy learning!"
   ]
  },
  {
   "cell_type": "markdown",
   "metadata": {},
   "source": [
    "# Challenge 1 - Matrix Functions\n",
    "\n",
    "#### We would like to create our own matrix. To make life simple for us, we can represent matrices as a list of lists. For the sake of simplicity, we will assume that the maximum number of dimensions a matrix will have is 2.\n",
    "\n",
    "The most basic thing we would like to do with two matrices is to add them together. To add two matrices, we must perform a number of checks. The first check we would like to perform is whether the matrix is two dimesional. This is because we want to limit ourselves to two dimensional matrices to simplify our problem. In the cell below write a function that checks is a matrix is two dimesional. "
   ]
  },
  {
   "cell_type": "code",
   "execution_count": 1,
   "metadata": {},
   "outputs": [],
   "source": [
    "def twodim(mat):\n",
    "    # This function takes a list of lists and checks that it is of depth 2. \n",
    "    # If the depth is not 2, either return false or return informative errors that let the user know the depth of the list.\n",
    "    # Input: nested list\n",
    "    # Output: Boolean (or error)\n",
    "    # Sample Input: [[1,2,3], [4,5,6]]\n",
    "    # Sample Output: True\n",
    "    \n",
    "    # Your Code Here:\n",
    "    for i in mat:\n",
    "        if type(i) is list: #if i is a list means we have at least 2 dimensions if not is only 1\n",
    "            for x in i:\n",
    "                if type(x) is list: #if x is a list means we have more than 2 dimensions if not its exactly 2 dms\n",
    "                    return False\n",
    "                else: return True\n",
    "        else: return False"
   ]
  },
  {
   "cell_type": "code",
   "execution_count": 2,
   "metadata": {},
   "outputs": [
    {
     "data": {
      "text/plain": [
       "True"
      ]
     },
     "execution_count": 2,
     "metadata": {},
     "output_type": "execute_result"
    }
   ],
   "source": [
    "twodim([[1,2], [1,2,3],[1,2,3]])"
   ]
  },
  {
   "cell_type": "markdown",
   "metadata": {},
   "source": [
    "# Bonus Challenge 1 - Write the function recursively\n",
    "\n",
    "Rewrite the `twodim` function using recursion. \n",
    "Read more about recursion [here](https://www.cs.utah.edu/~germain/PPS/Topics/recursion.html)\n",
    "\n",
    "Hint: stop your recursion when there are no more lists, this wil be the depth of your matrix. Check that this depth is equal to 2.\n",
    "Second Hint: At every level of the recursion, use the filter function to keep only the members of the list that are lists."
   ]
  },
  {
   "cell_type": "code",
   "execution_count": 3,
   "metadata": {},
   "outputs": [],
   "source": [
    "def twodimrecursive(mat):\n",
    "    # Your code here:\n",
    "    if all([isinstance(i,int) for i in mat]):\n",
    "        return 1\n",
    "    else: return 1 +max([twodimrecursive(i) for i in mat])"
   ]
  },
  {
   "cell_type": "code",
   "execution_count": 4,
   "metadata": {},
   "outputs": [
    {
     "data": {
      "text/plain": [
       "2"
      ]
     },
     "execution_count": 4,
     "metadata": {},
     "output_type": "execute_result"
    }
   ],
   "source": [
    "twodimrecursive([[1,2,3],[1,2]])"
   ]
  },
  {
   "cell_type": "markdown",
   "metadata": {},
   "source": [
    "#### Next, we will write a function that checks for the number of rows and columns of a matrix. \n",
    "\n",
    "Recall that the outer list will tell us the number of rows and the inner lists will tell us the number of columns. Make sure that all inner lists are of the same length."
   ]
  },
  {
   "cell_type": "code",
   "execution_count": 5,
   "metadata": {},
   "outputs": [],
   "source": [
    "def rowcolumn(mat):\n",
    "    # This function takes a list of lists and returns the size of the rows and the columns \n",
    "    # Input: list of lists\n",
    "    # Output: Tuple of rows and columns\n",
    "    #\n",
    "    # Sample input: [[1,2,3],[4,5,6]]\n",
    "    # Sample Output: (2, 3)\n",
    "    \n",
    "    # Your code here:\n",
    "    return(len(mat), len(mat[0]))"
   ]
  },
  {
   "cell_type": "code",
   "execution_count": 6,
   "metadata": {},
   "outputs": [
    {
     "data": {
      "text/plain": [
       "(3, 4)"
      ]
     },
     "execution_count": 6,
     "metadata": {},
     "output_type": "execute_result"
    }
   ],
   "source": [
    "rowcolumn([[1,2,3,4], [1,2,3,4],[1,2,3,4]])"
   ]
  },
  {
   "cell_type": "markdown",
   "metadata": {},
   "source": [
    "#### Our next step is to write a function that compares two matrices and tells us whether they are of equal size.\n",
    "\n",
    "In this function we will check whether the number of rows and number of columns is the same."
   ]
  },
  {
   "cell_type": "code",
   "execution_count": 7,
   "metadata": {},
   "outputs": [],
   "source": [
    "def compare(mat1, mat2):\n",
    "    # This function takes a two lists of lists and checks whether they have the same number of rows and columns\n",
    "    # Input: two list of lists\n",
    "    # Output: True or False\n",
    "    #\n",
    "    # Sample input: [[1,2,3],[4,5,6]], [[7,8,9], [10,11,12]]\n",
    "    # Sample Output: True\n",
    "    \n",
    "    # Your code here:\n",
    "    if len(mat1) == len(mat2) and len(mat1[0]) == len(mat2[0]):\n",
    "        return True\n",
    "    else: return False"
   ]
  },
  {
   "cell_type": "code",
   "execution_count": 8,
   "metadata": {},
   "outputs": [
    {
     "data": {
      "text/plain": [
       "True"
      ]
     },
     "execution_count": 8,
     "metadata": {},
     "output_type": "execute_result"
    }
   ],
   "source": [
    "compare([[1,2,3],[4,5,6]], [[7,8,9], [10,11,12]])"
   ]
  },
  {
   "cell_type": "markdown",
   "metadata": {},
   "source": [
    "#### Now that we have all the tools we need, write a function that adds two matrices together. \n",
    "\n",
    "Remember that a matrix is represented as a list of lists. Therefore, we must add each element in the list. The plus symbol is used for concatenating two lists and not for adding every element in two lists."
   ]
  },
  {
   "cell_type": "code",
   "execution_count": 30,
   "metadata": {},
   "outputs": [],
   "source": [
    "def addition(mat1, mat2):\n",
    "    # This function takes a two lists of lists and adds each cell together\n",
    "    # Input: two list of lists\n",
    "    # Output: one summed list of lists\n",
    "    #\n",
    "    # Sample input: [[1,2,3],[4,5,6]], [[7,8,9], [10,11,12]]\n",
    "    # Sample Output: [[8,10,12],[14,16,18]]\n",
    "    \n",
    "    # Your code here:\n",
    "    \n",
    "    list1 = []\n",
    "    for i in range(len(mat1)):\n",
    "        list2 = []\n",
    "        for k in range(len(mat1[i])):\n",
    "            list2.append(mat1[i][k] + mat2[i][k])\n",
    "            \n",
    "        list1.append(list2)\n",
    " \n",
    "    return list1  "
   ]
  },
  {
   "cell_type": "code",
   "execution_count": 31,
   "metadata": {},
   "outputs": [
    {
     "data": {
      "text/plain": [
       "[[8, 10, 12], [14, 16, 18]]"
      ]
     },
     "execution_count": 31,
     "metadata": {},
     "output_type": "execute_result"
    }
   ],
   "source": [
    "addition([[1,2,3],[4,5,6]], [[7,8,9], [10,11,12]])"
   ]
  },
  {
   "cell_type": "markdown",
   "metadata": {},
   "source": [
    "# Challenge 2 - Creating the Class\n",
    "\n",
    "In the cell below, you will be creating the class Matrix2D. Use the functions you have written above and tweak them according to the instructions in the comments. You got this!"
   ]
  },
  {
   "cell_type": "code",
   "execution_count": 51,
   "metadata": {},
   "outputs": [],
   "source": [
    "class Matrix2D:\n",
    "    # First, we will write the __init__ function. \n",
    "    # In this function, we will initialize rows and the columns using the matrix that we have passed to the class.\n",
    "    \n",
    "    def __init__(self, mat):\n",
    "        # Assign mat to self.mat\n",
    "        # Assign rows and cols to self.rows and self.cols\n",
    "        # To find the rows and the cols, use the rowcolumn function and pass self.mat to the function.\n",
    "        # Since the rowcolumn function is now a member of the class, make sure to refer to the function as self.rowcolumn\n",
    "        \n",
    "        # Your code here:\n",
    "        self.mat = mat\n",
    "        rows_columns = self.rowcolumn(mat)\n",
    "        self.rows = rows_columns[0]\n",
    "        self.columns = rows_columns[1]        \n",
    "    \n",
    "    # Insert the twodim function here.\n",
    "    # The only change you need to make is that now we are passing self and mat to the function (make sure self is first).\n",
    "    \n",
    "    # Your code here:\n",
    "    def twodim(self,mat):\n",
    "        for i in mat:\n",
    "            if type(i) is list: \n",
    "                for x in i:\n",
    "                    if type(x) is list: \n",
    "                        return False\n",
    "                    else: return True\n",
    "            else: return False\n",
    "    \n",
    "    # Insert the rowcolumn function here.\n",
    "    # The changes you need to make: \n",
    "    # 1. The function now takes self and mat as arguments (make sure to pass self first).\n",
    "    # 2. Any reference to twodim will be changed to self.twodim since this function is a member of the class and takes self \n",
    "    \n",
    "    # Your code here:\n",
    "\n",
    "    def rowcolumn(self,mat):\n",
    "        return(len(mat), len(mat[0]))\n",
    "    \n",
    "    # Insert the compare function here\n",
    "    # Add self as the first argument passed to the function\n",
    "    \n",
    "    # Your code here:\n",
    "    def compare(self, matrix):\n",
    "        if len(self.mat) == len(matrix.mat) and len(self.mat[0]) == len(matrix.mat[0]):\n",
    "            return True\n",
    "        else: return False\n",
    "\n",
    "\n",
    "    # Insert the addition function here\n",
    "    # This function now takes self and matrix (another matrix of the Matrix2D class)\n",
    "    # Change the compare function to self.compare \n",
    "    # Change any reference to mat1 and mat2 to self.mat and matrix.mat respectively\n",
    "    # Return your result as a Matrix2D(result). This will ensure that we return a new matrix and not a list of lists.\n",
    "    \n",
    "    # Your code here:\n",
    "    def addition(self, matrix):\n",
    "        list1 = []\n",
    "        if self.compare(matrix) is True:\n",
    "            for i in range(len(self.mat)):\n",
    "                list2 = []                \n",
    "                for k in range(len(self.mat[i])):\n",
    "                    x =self.mat[i][k] + matrix.mat[i][k]\n",
    "                    list2.append(x)\n",
    "                list1.append(list2)\n",
    " \n",
    "        return Matrix2D(list1)"
   ]
  },
  {
   "cell_type": "code",
   "execution_count": 52,
   "metadata": {},
   "outputs": [
    {
     "data": {
      "text/plain": [
       "[[8, 10, 12], [14, 16, 18]]"
      ]
     },
     "execution_count": 52,
     "metadata": {},
     "output_type": "execute_result"
    }
   ],
   "source": [
    "Matrix2D([[1,2,3],[4,5,6]]).addition(Matrix2D([[7,8,9],[10,11,12]])).mat"
   ]
  },
  {
   "cell_type": "markdown",
   "metadata": {},
   "source": [
    "# Bonus Challenge 2 - Transpose Function\n",
    "\n",
    "#### Write a function that transposes the matrix and add it to your class.\n",
    "\n",
    "You can read more about the transpose of a matrix [here](https://en.wikipedia.org/wiki/Transpose).\n",
    "\n",
    "Hint: Use the zip function. Read about it [here](https://docs.python.org/3.3/library/functions.html#zip)\n",
    "\n",
    "Second Hint: Read about the asterisk in Python [here](https://docs.python.org/3/reference/expressions.html#expression-lists)"
   ]
  },
  {
   "cell_type": "code",
   "execution_count": 13,
   "metadata": {},
   "outputs": [
    {
     "ename": "IndentationError",
     "evalue": "expected an indented block (<ipython-input-13-14591fc7f940>, line 10)",
     "output_type": "error",
     "traceback": [
      "\u001b[0;36m  File \u001b[0;32m\"<ipython-input-13-14591fc7f940>\"\u001b[0;36m, line \u001b[0;32m10\u001b[0m\n\u001b[0;31m    \u001b[0m\n\u001b[0m    ^\u001b[0m\n\u001b[0;31mIndentationError\u001b[0m\u001b[0;31m:\u001b[0m expected an indented block\n"
     ]
    }
   ],
   "source": [
    "def transpose(mat):\n",
    "    # This function takes a list of lists and returns a transposed list of lists.\n",
    "    # Input: list of lists\n",
    "    # Output: list of lists\n",
    "    \n",
    "    # Sample Input: [[1,2,3],[4,5,6]]\n",
    "    # Sample Output: [[1,4], [2,5], [3,6]]\n",
    "    \n",
    "    # Your code here:\n",
    "    "
   ]
  },
  {
   "cell_type": "code",
   "execution_count": null,
   "metadata": {},
   "outputs": [],
   "source": [
    "transpose([[1,2,3],[4,5,6]])"
   ]
  },
  {
   "cell_type": "code",
   "execution_count": null,
   "metadata": {},
   "outputs": [],
   "source": []
  }
 ],
 "metadata": {
  "kernelspec": {
   "display_name": "Python 3",
   "language": "python",
   "name": "python3"
  },
  "language_info": {
   "codemirror_mode": {
    "name": "ipython",
    "version": 3
   },
   "file_extension": ".py",
   "mimetype": "text/x-python",
   "name": "python",
   "nbconvert_exporter": "python",
   "pygments_lexer": "ipython3",
   "version": "3.9.1"
  },
  "latex_envs": {
   "LaTeX_envs_menu_present": true,
   "autoclose": false,
   "autocomplete": true,
   "bibliofile": "biblio.bib",
   "cite_by": "apalike",
   "current_citInitial": 1,
   "eqLabelWithNumbers": true,
   "eqNumInitial": 1,
   "hotkeys": {
    "equation": "Ctrl-E",
    "itemize": "Ctrl-I"
   },
   "labels_anchors": false,
   "latex_user_defs": false,
   "report_style_numbering": false,
   "user_envs_cfg": false
  },
  "toc": {
   "base_numbering": 1,
   "nav_menu": {},
   "number_sections": true,
   "sideBar": true,
   "skip_h1_title": false,
   "title_cell": "Table of Contents",
   "title_sidebar": "Contents",
   "toc_cell": false,
   "toc_position": {},
   "toc_section_display": true,
   "toc_window_display": false
  },
  "varInspector": {
   "cols": {
    "lenName": 16,
    "lenType": 16,
    "lenVar": 40
   },
   "kernels_config": {
    "python": {
     "delete_cmd_postfix": "",
     "delete_cmd_prefix": "del ",
     "library": "var_list.py",
     "varRefreshCmd": "print(var_dic_list())"
    },
    "r": {
     "delete_cmd_postfix": ") ",
     "delete_cmd_prefix": "rm(",
     "library": "var_list.r",
     "varRefreshCmd": "cat(var_dic_list()) "
    }
   },
   "types_to_exclude": [
    "module",
    "function",
    "builtin_function_or_method",
    "instance",
    "_Feature"
   ],
   "window_display": false
  }
 },
 "nbformat": 4,
 "nbformat_minor": 2
}
